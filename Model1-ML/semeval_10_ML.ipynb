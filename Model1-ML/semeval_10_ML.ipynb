{
 "cells": [
  {
   "cell_type": "code",
   "execution_count": 1,
   "metadata": {
    "id": "enEzufdHNndZ"
   },
   "outputs": [
    {
     "name": "stderr",
     "output_type": "stream",
     "text": [
      "[nltk_data] Downloading package stopwords to\n",
      "[nltk_data]     C:\\Users\\dhana\\AppData\\Roaming\\nltk_data...\n",
      "[nltk_data]   Package stopwords is already up-to-date!\n",
      "[nltk_data] Downloading package wordnet to\n",
      "[nltk_data]     C:\\Users\\dhana\\AppData\\Roaming\\nltk_data...\n",
      "[nltk_data]   Package wordnet is already up-to-date!\n"
     ]
    }
   ],
   "source": [
    "import os\n",
    "import numpy as np\n",
    "import pandas as pd\n",
    "import re\n",
    "import matplotlib.pyplot as plt\n",
    "import nltk\n",
    "nltk.download('stopwords')\n",
    "nltk.download('wordnet')\n",
    "nltk.download('omw-1.4')\n",
    "from nltk.stem import WordNetLemmatizer\n",
    "from nltk.corpus import stopwords\n",
    "\n",
    "from sklearn.metrics import classification_report, accuracy_score\n",
    "from sklearn.feature_extraction.text import TfidfVectorizer\n",
    "from sklearn.model_selection import train_test_split\n",
    "from sklearn.linear_model import LogisticRegression\n",
    "from sklearn import tree\n",
    "from sklearn.ensemble import RandomForestClassifier\n",
    "import xgboost as xgb"
   ]
  },
  {
   "cell_type": "code",
   "execution_count": 2,
   "metadata": {
    "id": "J7qRdnuTOq_E"
   },
   "outputs": [
    {
     "data": {
      "text/plain": [
       "14000"
      ]
     },
     "execution_count": 2,
     "metadata": {},
     "output_type": "execute_result"
    }
   ],
   "source": [
    "# change your file path here\n",
    "filepath = os.path.join(os.path.curdir, \"data\", \"train_all_tasks.csv\")\n",
    "df = pd.read_csv(filepath)\n",
    "df = df.drop(columns=['rewire_id'])\n",
    "df.head()\n",
    "len(df)"
   ]
  },
  {
   "cell_type": "markdown",
   "metadata": {
    "id": "g1wg5yQOPNkr"
   },
   "source": [
    "#**TASK-A**"
   ]
  },
  {
   "cell_type": "code",
   "execution_count": 3,
   "metadata": {
    "id": "Wr1TnmHcPEEE"
   },
   "outputs": [],
   "source": [
    "def clean_text(text):\n",
    "    text = text.lower() \n",
    "    text = re.sub(r'http\\S+', '', text)\n",
    "    text = re.sub(r'www\\S+', '', text) \n",
    "    text = re.sub(r'<.*?>', '', text)  \n",
    "    text = re.sub(r'[^\\w\\s]', '', text)\n",
    "    text = re.sub('\\s+', ' ', text) \n",
    "    return text\n",
    "\n",
    "def remove_stopword(text, stopwords):\n",
    "    return \" \".join([word for word in text.split() if word not in (stop_words)])\n",
    "\n",
    "def lemma_text(text, lemmatizer):\n",
    "    lemmatized_words = [lemmatizer.lemmatize(word) for word in tokenize(text)]\n",
    "    return \" \".join(lemmatized_words)\n",
    "\n",
    "def tokenize(text):\n",
    "    return text.split()\n",
    "\n",
    "def process_text(text, lemmatizer, stop_words):\n",
    "    text = clean_text(text)\n",
    "    text = remove_stopword(text, stop_words)\n",
    "    text = lemma_text(text, lemmatizer)\n",
    "    return text \n",
    "\n",
    "stop_words = stopwords.words('english')\n",
    "lemmatizer = WordNetLemmatizer()"
   ]
  },
  {
   "cell_type": "code",
   "execution_count": 4,
   "metadata": {
    "id": "rVRwwE_FQXyj"
   },
   "outputs": [
    {
     "data": {
      "text/html": [
       "<div>\n",
       "<style scoped>\n",
       "    .dataframe tbody tr th:only-of-type {\n",
       "        vertical-align: middle;\n",
       "    }\n",
       "\n",
       "    .dataframe tbody tr th {\n",
       "        vertical-align: top;\n",
       "    }\n",
       "\n",
       "    .dataframe thead th {\n",
       "        text-align: right;\n",
       "    }\n",
       "</style>\n",
       "<table border=\"1\" class=\"dataframe\">\n",
       "  <thead>\n",
       "    <tr style=\"text-align: right;\">\n",
       "      <th></th>\n",
       "      <th>text</th>\n",
       "      <th>label_sexist</th>\n",
       "      <th>label_category</th>\n",
       "      <th>label_vector</th>\n",
       "      <th>processed_text</th>\n",
       "    </tr>\n",
       "  </thead>\n",
       "  <tbody>\n",
       "    <tr>\n",
       "      <th>0</th>\n",
       "      <td>Damn, this writing was pretty chaotic</td>\n",
       "      <td>not sexist</td>\n",
       "      <td>none</td>\n",
       "      <td>none</td>\n",
       "      <td>damn writing pretty chaotic</td>\n",
       "    </tr>\n",
       "    <tr>\n",
       "      <th>1</th>\n",
       "      <td>Yeah, and apparently a bunch of misogynistic v...</td>\n",
       "      <td>not sexist</td>\n",
       "      <td>none</td>\n",
       "      <td>none</td>\n",
       "      <td>yeah apparently bunch misogynistic virgin one ...</td>\n",
       "    </tr>\n",
       "    <tr>\n",
       "      <th>2</th>\n",
       "      <td>How the FUCK is this woman still an MP!!!???</td>\n",
       "      <td>not sexist</td>\n",
       "      <td>none</td>\n",
       "      <td>none</td>\n",
       "      <td>fuck woman still mp</td>\n",
       "    </tr>\n",
       "    <tr>\n",
       "      <th>3</th>\n",
       "      <td>Understand. Know you're right. At same time I ...</td>\n",
       "      <td>not sexist</td>\n",
       "      <td>none</td>\n",
       "      <td>none</td>\n",
       "      <td>understand know youre right time know isnt eno...</td>\n",
       "    </tr>\n",
       "    <tr>\n",
       "      <th>4</th>\n",
       "      <td>Surprized they didn't stop and rape some women</td>\n",
       "      <td>not sexist</td>\n",
       "      <td>none</td>\n",
       "      <td>none</td>\n",
       "      <td>surprized didnt stop rape woman</td>\n",
       "    </tr>\n",
       "  </tbody>\n",
       "</table>\n",
       "</div>"
      ],
      "text/plain": [
       "                                                text label_sexist  \\\n",
       "0              Damn, this writing was pretty chaotic   not sexist   \n",
       "1  Yeah, and apparently a bunch of misogynistic v...   not sexist   \n",
       "2       How the FUCK is this woman still an MP!!!???   not sexist   \n",
       "3  Understand. Know you're right. At same time I ...   not sexist   \n",
       "4     Surprized they didn't stop and rape some women   not sexist   \n",
       "\n",
       "  label_category label_vector  \\\n",
       "0           none         none   \n",
       "1           none         none   \n",
       "2           none         none   \n",
       "3           none         none   \n",
       "4           none         none   \n",
       "\n",
       "                                      processed_text  \n",
       "0                        damn writing pretty chaotic  \n",
       "1  yeah apparently bunch misogynistic virgin one ...  \n",
       "2                                fuck woman still mp  \n",
       "3  understand know youre right time know isnt eno...  \n",
       "4                    surprized didnt stop rape woman  "
      ]
     },
     "execution_count": 4,
     "metadata": {},
     "output_type": "execute_result"
    }
   ],
   "source": [
    "df[\"processed_text\"] = df['text'].apply(process_text, lemmatizer = lemmatizer, stop_words = stop_words)\n",
    "df.head(5)"
   ]
  },
  {
   "cell_type": "code",
   "execution_count": 5,
   "metadata": {
    "id": "PIadfqYPwgVI"
   },
   "outputs": [
    {
     "name": "stdout",
     "output_type": "stream",
     "text": [
      "class_s: (3398, 5)\n",
      "class_ns: (10602, 5)\n"
     ]
    }
   ],
   "source": [
    "#Under sampling the data\n",
    "# class count\n",
    "class_notsexist, class_sexist = df['label_sexist'].value_counts()\n",
    "class_notsexist, class_sexist\n",
    "# # Separate class\n",
    "class_s = df[df['label_sexist'] == \"sexist\"]\n",
    "class_ns = df[df['label_sexist'] == \"not sexist\"]\n",
    "print('class_s:', class_s.shape)\n",
    "print('class_ns:', class_ns.shape)"
   ]
  },
  {
   "cell_type": "code",
   "execution_count": 6,
   "metadata": {
    "id": "gJWa9p0dxeFY"
   },
   "outputs": [
    {
     "data": {
      "text/plain": [
       "<AxesSubplot:title={'center':'count (target)'}>"
      ]
     },
     "execution_count": 6,
     "metadata": {},
     "output_type": "execute_result"
    },
    {
     "data": {
      "image/png": "[encoded data removed]",
      "text/plain": [
       "<Figure size 640x480 with 1 Axes>"
      ]
     },
     "metadata": {},
     "output_type": "display_data"
    }
   ],
   "source": [
    "class_ns_under = class_ns.sample(class_sexist+1000)\n",
    "\n",
    "df_under = pd.concat([class_ns_under, class_s], axis=0)\n",
    "df_under['label_sexist'].value_counts().plot(kind='bar', title='count (target)')"
   ]
  },
  {
   "cell_type": "code",
   "execution_count": 7,
   "metadata": {
    "id": "eWf2wKxlSyuS"
   },
   "outputs": [],
   "source": [
    "tfidf = TfidfVectorizer()\n",
    "tfidf_text_vec = tfidf.fit_transform(df_under.processed_text)"
   ]
  },
  {
   "cell_type": "code",
   "execution_count": 8,
   "metadata": {
    "id": "kEpdqHIQTVYq"
   },
   "outputs": [],
   "source": [
    "x_train_a, x_test_a, y_train_a, y_test_a = train_test_split(tfidf_text_vec, df_under['label_sexist'], test_size=0.2, train_size=0.8, random_state=5, shuffle=True)"
   ]
  },
  {
   "cell_type": "markdown",
   "metadata": {
    "id": "LwmdeRIpcby6"
   },
   "source": [
    "**Logistic Regression**"
   ]
  },
  {
   "cell_type": "code",
   "execution_count": 9,
   "metadata": {
    "id": "crPbwzYTT4hs"
   },
   "outputs": [
    {
     "name": "stdout",
     "output_type": "stream",
     "text": [
      "Accuracy: 73.65%\n",
      "              precision    recall  f1-score   support\n",
      "\n",
      "  not sexist       0.71      0.89      0.79       883\n",
      "      sexist       0.79      0.54      0.64       677\n",
      "\n",
      "    accuracy                           0.74      1560\n",
      "   macro avg       0.75      0.71      0.72      1560\n",
      "weighted avg       0.75      0.74      0.73      1560\n",
      "\n"
     ]
    }
   ],
   "source": [
    "lrm = LogisticRegression(penalty='l2', random_state=0).fit(x_train_a, y_train_a)\n",
    "lrm_pred = lrm.predict(x_test_a)\n",
    "acc = accuracy_score(lrm_pred, y_test_a)\n",
    "print(\"Accuracy:\",str('{:04.2f}'.format(acc*100))+'%')\n",
    "print(classification_report(y_test_a, lrm_pred))\n",
    "clsf_report = pd.DataFrame(classification_report(y_test_a, lrm_pred, output_dict=True)).transpose()\n",
    "clsf_report.to_csv(os.path.join(os.path.curdir, \"result\", \"task_a_cls_report_logistic_reg.csv\"), index= True)"
   ]
  },
  {
   "cell_type": "markdown",
   "metadata": {
    "id": "kPOsqnVOcghA"
   },
   "source": [
    "**Decision Tree**"
   ]
  },
  {
   "cell_type": "code",
   "execution_count": 10,
   "metadata": {
    "id": "H-zBK9hqUCQc"
   },
   "outputs": [
    {
     "name": "stdout",
     "output_type": "stream",
     "text": [
      "Accuracy: 60.19%\n",
      "              precision    recall  f1-score   support\n",
      "\n",
      "  not sexist       0.64      0.68      0.66       883\n",
      "      sexist       0.54      0.51      0.52       677\n",
      "\n",
      "    accuracy                           0.60      1560\n",
      "   macro avg       0.59      0.59      0.59      1560\n",
      "weighted avg       0.60      0.60      0.60      1560\n",
      "\n"
     ]
    }
   ],
   "source": [
    "dt_clf = tree.DecisionTreeClassifier(criterion='entropy', max_features=20)\n",
    "dt_clf.fit(x_train_a, y_train_a)\n",
    "pred = dt_clf.predict(x_test_a)\n",
    "acc = accuracy_score(pred, y_test_a)\n",
    "print(\"Accuracy:\",str('{:04.2f}'.format(acc*100))+'%')\n",
    "print(classification_report(y_test_a, pred))\n",
    "clsf_report = pd.DataFrame(classification_report(y_test_a, pred, output_dict=True)).transpose()\n",
    "clsf_report.to_csv(os.path.join(os.path.curdir, \"result\", \"task_a_cls_report_logistic_decision_tree.csv\"), index= True)"
   ]
  },
  {
   "cell_type": "markdown",
   "metadata": {
    "id": "lNXYgqcp4-0I"
   },
   "source": []
  },
  {
   "cell_type": "markdown",
   "metadata": {
    "id": "U_A-aZyLcjp-"
   },
   "source": [
    "**Xgboost Model**"
   ]
  },
  {
   "cell_type": "code",
   "execution_count": 11,
   "metadata": {},
   "outputs": [],
   "source": [
    "from sklearn.preprocessing import LabelEncoder\n",
    "le = LabelEncoder()\n",
    "y_train_a_enc = le.fit_transform(y_train_a)\n",
    "y_test_a_enc = le.fit_transform(y_test_a)"
   ]
  },
  {
   "cell_type": "code",
   "execution_count": 12,
   "metadata": {
    "id": "3ICpw9UIU5bB"
   },
   "outputs": [
    {
     "name": "stdout",
     "output_type": "stream",
     "text": [
      "Accuracy: 74.29%\n",
      "              precision    recall  f1-score   support\n",
      "\n",
      "           0       0.74      0.83      0.79       883\n",
      "           1       0.74      0.63      0.68       677\n",
      "\n",
      "    accuracy                           0.74      1560\n",
      "   macro avg       0.74      0.73      0.73      1560\n",
      "weighted avg       0.74      0.74      0.74      1560\n",
      "\n"
     ]
    }
   ],
   "source": [
    "xgb_model = xgb.XGBClassifier(objective=\"binary:logistic\", random_state=5)\n",
    "xgb_model.fit(x_train_a, y_train_a_enc)\n",
    "\n",
    "y_pred = xgb_model.predict(x_test_a)\n",
    "y_pred_enc = le.fit_transform(y_pred)\n",
    "\n",
    "acc = accuracy_score(y_pred_enc, y_test_a_enc)\n",
    "print(\"Accuracy:\",str('{:04.2f}'.format(acc*100))+'%')\n",
    "print(classification_report(y_test_a_enc, y_pred_enc))\n",
    "clsf_report = pd.DataFrame(classification_report(y_test_a_enc, y_pred_enc, output_dict=True)).transpose()\n",
    "clsf_report.to_csv(os.path.join(os.path.curdir, \"result\", \"task_a_cls_report_xgboost.csv\"), index= True)"
   ]
  },
  {
   "cell_type": "code",
   "execution_count": 13,
   "metadata": {
    "id": "__QsvxECqpBP"
   },
   "outputs": [
    {
     "name": "stdout",
     "output_type": "stream",
     "text": [
      "Accuracy: 76.09%\n",
      "              precision    recall  f1-score   support\n",
      "\n",
      "  not sexist       0.75      0.86      0.80       883\n",
      "      sexist       0.78      0.63      0.70       677\n",
      "\n",
      "    accuracy                           0.76      1560\n",
      "   macro avg       0.76      0.75      0.75      1560\n",
      "weighted avg       0.76      0.76      0.76      1560\n",
      "\n"
     ]
    }
   ],
   "source": [
    "from sklearn.ensemble import RandomForestClassifier\n",
    "\n",
    "rf_clf = RandomForestClassifier().fit(x_train_a, y_train_a)\n",
    "rf_pred = rf_clf.predict(x_test_a)\n",
    "acc = accuracy_score(rf_pred, y_test_a)\n",
    "print(\"Accuracy:\",str('{:04.2f}'.format(acc*100))+'%')\n",
    "print(classification_report(y_test_a, rf_pred))\n",
    "clsf_report = pd.DataFrame(classification_report(y_test_a, rf_pred, output_dict=True)).transpose()\n",
    "clsf_report.to_csv(os.path.join(os.path.curdir, \"result\", \"task_a_cls_report_random_forest.csv\"), index= True)"
   ]
  },
  {
   "cell_type": "markdown",
   "metadata": {
    "id": "GnIGherpcPPl"
   },
   "source": [
    "#**TASK-B**"
   ]
  },
  {
   "cell_type": "code",
   "execution_count": 14,
   "metadata": {
    "id": "0h330eVITELO"
   },
   "outputs": [
    {
     "data": {
      "text/plain": [
       "3398"
      ]
     },
     "execution_count": 14,
     "metadata": {},
     "output_type": "execute_result"
    }
   ],
   "source": [
    "df_b = df[df['label_category'] != 'none']\n",
    "df = df_b\n",
    "len(df)"
   ]
  },
  {
   "cell_type": "code",
   "execution_count": 15,
   "metadata": {
    "id": "vOr2UKKhcyWq"
   },
   "outputs": [],
   "source": [
    "tfidf = TfidfVectorizer()\n",
    "tfidf_text_vec = tfidf.fit_transform(df.processed_text)"
   ]
  },
  {
   "cell_type": "code",
   "execution_count": 16,
   "metadata": {
    "id": "-CWLq0socSOU"
   },
   "outputs": [],
   "source": [
    "x_train_b, x_test_b, y_train_b, y_test_b = train_test_split(tfidf_text_vec, df['label_category'], test_size=0.2, train_size=0.8, random_state=5, shuffle=True)"
   ]
  },
  {
   "cell_type": "markdown",
   "metadata": {
    "id": "-l7vMb0A5mq0"
   },
   "source": [
    "**Decision Tree**"
   ]
  },
  {
   "cell_type": "code",
   "execution_count": 17,
   "metadata": {
    "id": "WrA-NwA1c6jC"
   },
   "outputs": [
    {
     "name": "stdout",
     "output_type": "stream",
     "text": [
      "Accuracy: 45.59%\n",
      "                                          precision    recall  f1-score   support\n",
      "\n",
      "1. threats, plans to harm and incitement       0.26      0.15      0.19        65\n",
      "                           2. derogation       0.52      0.59      0.55       321\n",
      "                            3. animosity       0.43      0.42      0.42       230\n",
      "               4. prejudiced discussions       0.27      0.23      0.25        64\n",
      "\n",
      "                                accuracy                           0.46       680\n",
      "                               macro avg       0.37      0.35      0.36       680\n",
      "                            weighted avg       0.44      0.46      0.45       680\n",
      "\n"
     ]
    }
   ],
   "source": [
    "dt_clf = tree.DecisionTreeClassifier()\n",
    "dt_clf.fit(x_train_b, y_train_b)\n",
    "pred = dt_clf.predict(x_test_b)\n",
    "acc = accuracy_score(pred, y_test_b)\n",
    "print(\"Accuracy:\",str('{:04.2f}'.format(acc*100))+'%')\n",
    "print(classification_report(y_test_b, pred))\n",
    "clsf_report = pd.DataFrame(classification_report(y_test_b, pred, output_dict=True)).transpose()\n",
    "clsf_report.to_csv(os.path.join(os.path.curdir, \"result\", \"task_b_cls_report_decision_tree.csv\"), index= True)"
   ]
  },
  {
   "cell_type": "code",
   "execution_count": 18,
   "metadata": {},
   "outputs": [],
   "source": [
    "le = LabelEncoder()\n",
    "y_train_b_enc = le.fit_transform(y_train_b)\n",
    "y_test_b_enc = le.fit_transform(y_test_b)"
   ]
  },
  {
   "cell_type": "markdown",
   "metadata": {
    "id": "gvrAer4a5rzY"
   },
   "source": [
    "**Xgboost Classifier**"
   ]
  },
  {
   "cell_type": "code",
   "execution_count": 19,
   "metadata": {
    "id": "bIU43CyXdGBi"
   },
   "outputs": [
    {
     "name": "stdout",
     "output_type": "stream",
     "text": [
      "Accuracy: 48.38%\n",
      "              precision    recall  f1-score   support\n",
      "\n",
      "           0       0.61      0.17      0.27        65\n",
      "           1       0.51      0.72      0.60       321\n",
      "           2       0.42      0.33      0.37       230\n",
      "           3       0.42      0.16      0.23        64\n",
      "\n",
      "    accuracy                           0.48       680\n",
      "   macro avg       0.49      0.34      0.37       680\n",
      "weighted avg       0.48      0.48      0.45       680\n",
      "\n"
     ]
    }
   ],
   "source": [
    "xgb_model = xgb.XGBClassifier(objective=\"multi:softprob\", random_state=5)\n",
    "xgb_model.fit(x_train_b, y_train_b_enc)\n",
    "\n",
    "y_pred = xgb_model.predict(x_test_b)\n",
    "y_pred_enc = le.fit_transform(y_pred)\n",
    "\n",
    "acc = accuracy_score(y_pred_enc, y_test_b_enc)\n",
    "print(\"Accuracy:\",str('{:04.2f}'.format(acc*100))+'%')\n",
    "print(classification_report(y_test_b_enc, y_pred_enc))\n",
    "clsf_report = pd.DataFrame(classification_report(y_test_b_enc, y_pred_enc, output_dict=True)).transpose()\n",
    "clsf_report.to_csv(os.path.join(os.path.curdir, \"result\", \"task_b_cls_report_xgboost.csv\"), index= True)"
   ]
  },
  {
   "cell_type": "markdown",
   "metadata": {
    "id": "T7Ol5uZ05wYa"
   },
   "source": [
    "**RandomForest Classifier**"
   ]
  },
  {
   "cell_type": "code",
   "execution_count": 20,
   "metadata": {
    "id": "sm5usix7rEs1"
   },
   "outputs": [
    {
     "name": "stdout",
     "output_type": "stream",
     "text": [
      "Accuracy: 47.21%\n",
      "                                          precision    recall  f1-score   support\n",
      "\n",
      "1. threats, plans to harm and incitement       0.00      0.00      0.00        65\n",
      "                           2. derogation       0.47      1.00      0.64       321\n",
      "                            3. animosity       0.00      0.00      0.00       230\n",
      "               4. prejudiced discussions       0.00      0.00      0.00        64\n",
      "\n",
      "                                accuracy                           0.47       680\n",
      "                               macro avg       0.12      0.25      0.16       680\n",
      "                            weighted avg       0.22      0.47      0.30       680\n",
      "\n"
     ]
    },
    {
     "name": "stderr",
     "output_type": "stream",
     "text": [
      "E:\\Softwares\\Anaconda3\\lib\\site-packages\\sklearn\\metrics\\_classification.py:1318: UndefinedMetricWarning: Precision and F-score are ill-defined and being set to 0.0 in labels with no predicted samples. Use `zero_division` parameter to control this behavior.\n",
      "  _warn_prf(average, modifier, msg_start, len(result))\n",
      "E:\\Softwares\\Anaconda3\\lib\\site-packages\\sklearn\\metrics\\_classification.py:1318: UndefinedMetricWarning: Precision and F-score are ill-defined and being set to 0.0 in labels with no predicted samples. Use `zero_division` parameter to control this behavior.\n",
      "  _warn_prf(average, modifier, msg_start, len(result))\n",
      "E:\\Softwares\\Anaconda3\\lib\\site-packages\\sklearn\\metrics\\_classification.py:1318: UndefinedMetricWarning: Precision and F-score are ill-defined and being set to 0.0 in labels with no predicted samples. Use `zero_division` parameter to control this behavior.\n",
      "  _warn_prf(average, modifier, msg_start, len(result))\n",
      "E:\\Softwares\\Anaconda3\\lib\\site-packages\\sklearn\\metrics\\_classification.py:1318: UndefinedMetricWarning: Precision and F-score are ill-defined and being set to 0.0 in labels with no predicted samples. Use `zero_division` parameter to control this behavior.\n",
      "  _warn_prf(average, modifier, msg_start, len(result))\n",
      "E:\\Softwares\\Anaconda3\\lib\\site-packages\\sklearn\\metrics\\_classification.py:1318: UndefinedMetricWarning: Precision and F-score are ill-defined and being set to 0.0 in labels with no predicted samples. Use `zero_division` parameter to control this behavior.\n",
      "  _warn_prf(average, modifier, msg_start, len(result))\n",
      "E:\\Softwares\\Anaconda3\\lib\\site-packages\\sklearn\\metrics\\_classification.py:1318: UndefinedMetricWarning: Precision and F-score are ill-defined and being set to 0.0 in labels with no predicted samples. Use `zero_division` parameter to control this behavior.\n",
      "  _warn_prf(average, modifier, msg_start, len(result))\n"
     ]
    }
   ],
   "source": [
    "from sklearn.ensemble import RandomForestClassifier\n",
    "\n",
    "rf_clf = RandomForestClassifier(max_depth=3, random_state=5).fit(x_train_b, y_train_b)\n",
    "rf_pred = rf_clf.predict(x_test_b)\n",
    "acc = accuracy_score(rf_pred, y_test_b)\n",
    "print(\"Accuracy:\",str('{:04.2f}'.format(acc*100))+'%')\n",
    "print(classification_report(y_test_b, rf_pred))\n",
    "clsf_report = pd.DataFrame(classification_report(y_test_b, rf_pred, output_dict=True)).transpose()\n",
    "clsf_report.to_csv(os.path.join(os.path.curdir, \"result\", \"task_b_cls_report_random_forest.csv\"), index= True)"
   ]
  },
  {
   "cell_type": "markdown",
   "metadata": {
    "id": "6ZFruibVdcpi"
   },
   "source": [
    "#**TASK-C**"
   ]
  },
  {
   "cell_type": "code",
   "execution_count": 21,
   "metadata": {
    "id": "gBbFb7jWUSOl"
   },
   "outputs": [
    {
     "data": {
      "text/plain": [
       "3398"
      ]
     },
     "execution_count": 21,
     "metadata": {},
     "output_type": "execute_result"
    }
   ],
   "source": [
    "df_c = df[df['label_vector'] != 'none']\n",
    "df = df_c\n",
    "len(df)"
   ]
  },
  {
   "cell_type": "code",
   "execution_count": 22,
   "metadata": {
    "id": "9MCdvo1Vc6z6"
   },
   "outputs": [],
   "source": [
    "tfidf = TfidfVectorizer()\n",
    "tfidf_text_vec = tfidf.fit_transform(df.processed_text)"
   ]
  },
  {
   "cell_type": "code",
   "execution_count": 23,
   "metadata": {
    "id": "in_9x5JkdcQ3"
   },
   "outputs": [],
   "source": [
    "x_train_c, x_test_c, y_train_c, y_test_c = train_test_split(tfidf_text_vec, df['label_vector'], test_size=0.2, train_size=0.8, random_state=5, shuffle=True)"
   ]
  },
  {
   "cell_type": "markdown",
   "metadata": {
    "id": "e9uKBkyJ569m"
   },
   "source": [
    "**Decision Tree**"
   ]
  },
  {
   "cell_type": "code",
   "execution_count": 24,
   "metadata": {
    "id": "Owknt221d-ZE"
   },
   "outputs": [
    {
     "name": "stdout",
     "output_type": "stream",
     "text": [
      "Accuracy: 36.18%\n",
      "                                                                 precision    recall  f1-score   support\n",
      "\n",
      "                                            1.1 threats of harm       0.00      0.00      0.00         9\n",
      "                       1.2 incitement and encouragement of harm       0.38      0.38      0.38        56\n",
      "                                        2.1 descriptive attacks       0.38      0.48      0.43       139\n",
      "                             2.2 aggressive and emotive attacks       0.44      0.37      0.40       141\n",
      "        2.3 dehumanising attacks & overt sexual objectification       0.26      0.22      0.24        41\n",
      "     3.1 casual use of gendered slurs, profanities, and insults       0.46      0.53      0.49       128\n",
      "        3.2 immutable gender differences and gender stereotypes       0.28      0.26      0.27        77\n",
      "                            3.3 backhanded gendered compliments       0.00      0.00      0.00        15\n",
      "             3.4 condescending explanations or unwelcome advice       0.00      0.00      0.00        10\n",
      "                4.1 supporting mistreatment of individual women       0.11      0.15      0.13        13\n",
      "4.2 supporting systemic discrimination against women as a group       0.17      0.14      0.15        51\n",
      "\n",
      "                                                       accuracy                           0.36       680\n",
      "                                                      macro avg       0.22      0.23      0.23       680\n",
      "                                                   weighted avg       0.35      0.36      0.35       680\n",
      "\n"
     ]
    }
   ],
   "source": [
    "dt_clf = tree.DecisionTreeClassifier()\n",
    "dt_clf.fit(x_train_c, y_train_c)\n",
    "pred = dt_clf.predict(x_test_c)\n",
    "acc = accuracy_score(pred, y_test_c)\n",
    "print(\"Accuracy:\",str('{:04.2f}'.format(acc*100))+'%')\n",
    "print(classification_report(y_test_c, pred))\n",
    "clsf_report = pd.DataFrame(classification_report(y_test_c, pred, output_dict=True)).transpose()\n",
    "clsf_report.to_csv(os.path.join(os.path.curdir, \"result\", \"task_c_cls_report_decision_tree.csv\"), index= True)"
   ]
  },
  {
   "cell_type": "markdown",
   "metadata": {
    "id": "1VYczMOU59_D"
   },
   "source": [
    "**Xgboost Classifier**"
   ]
  },
  {
   "cell_type": "code",
   "execution_count": 25,
   "metadata": {},
   "outputs": [],
   "source": [
    "le = LabelEncoder()\n",
    "y_train_c_enc = le.fit_transform(y_train_c)\n",
    "y_test_c_enc = le.fit_transform(y_test_c)"
   ]
  },
  {
   "cell_type": "code",
   "execution_count": 26,
   "metadata": {
    "id": "JXnUe1qYeJUr"
   },
   "outputs": [
    {
     "name": "stdout",
     "output_type": "stream",
     "text": [
      "Accuracy: 41.32%\n",
      "              precision    recall  f1-score   support\n",
      "\n",
      "           0       0.00      0.00      0.00         9\n",
      "           1       0.47      0.29      0.36        56\n",
      "           2       0.41      0.64      0.50       139\n",
      "           3       0.45      0.41      0.43       141\n",
      "           4       0.40      0.20      0.26        41\n",
      "           5       0.43      0.60      0.50       128\n",
      "           6       0.38      0.31      0.34        77\n",
      "           7       0.00      0.00      0.00        15\n",
      "           8       0.00      0.00      0.00        10\n",
      "           9       0.29      0.15      0.20        13\n",
      "          10       0.28      0.14      0.18        51\n",
      "\n",
      "    accuracy                           0.41       680\n",
      "   macro avg       0.28      0.25      0.25       680\n",
      "weighted avg       0.39      0.41      0.39       680\n",
      "\n"
     ]
    }
   ],
   "source": [
    "xgb_model = xgb.XGBClassifier(objective=\"multi:softprob\", random_state=2)\n",
    "xgb_model.fit(x_train_c, y_train_c_enc)\n",
    "\n",
    "y_pred = xgb_model.predict(x_test_c)\n",
    "y_pred_enc = le.fit_transform(y_pred)\n",
    "\n",
    "acc = accuracy_score(y_pred_enc, y_test_c_enc)\n",
    "print(\"Accuracy:\",str('{:04.2f}'.format(acc*100))+'%')\n",
    "print(classification_report(y_test_c_enc, y_pred_enc))\n",
    "clsf_report = pd.DataFrame(classification_report(y_test_c_enc, y_pred_enc, output_dict=True)).transpose()\n",
    "clsf_report.to_csv(os.path.join(os.path.curdir, \"result\", \"task_c_cls_report_xgboost.csv\"), index= True)"
   ]
  },
  {
   "cell_type": "markdown",
   "metadata": {
    "id": "r5OYIzAN6C5G"
   },
   "source": [
    "**Random Forest Classifier**"
   ]
  },
  {
   "cell_type": "code",
   "execution_count": 27,
   "metadata": {
    "id": "crkM6u3rrWmP"
   },
   "outputs": [
    {
     "name": "stdout",
     "output_type": "stream",
     "text": [
      "Accuracy: 34.85%\n",
      "                                                                 precision    recall  f1-score   support\n",
      "\n",
      "                                            1.1 threats of harm       0.00      0.00      0.00         9\n",
      "                       1.2 incitement and encouragement of harm       0.00      0.00      0.00        56\n",
      "                                        2.1 descriptive attacks       0.29      0.94      0.44       139\n",
      "                             2.2 aggressive and emotive attacks       0.46      0.36      0.40       141\n",
      "        2.3 dehumanising attacks & overt sexual objectification       0.00      0.00      0.00        41\n",
      "     3.1 casual use of gendered slurs, profanities, and insults       0.50      0.43      0.46       128\n",
      "        3.2 immutable gender differences and gender stereotypes       0.00      0.00      0.00        77\n",
      "                            3.3 backhanded gendered compliments       0.00      0.00      0.00        15\n",
      "             3.4 condescending explanations or unwelcome advice       0.00      0.00      0.00        10\n",
      "                4.1 supporting mistreatment of individual women       0.00      0.00      0.00        13\n",
      "4.2 supporting systemic discrimination against women as a group       0.00      0.00      0.00        51\n",
      "\n",
      "                                                       accuracy                           0.35       680\n",
      "                                                      macro avg       0.11      0.16      0.12       680\n",
      "                                                   weighted avg       0.25      0.35      0.26       680\n",
      "\n"
     ]
    },
    {
     "name": "stderr",
     "output_type": "stream",
     "text": [
      "E:\\Softwares\\Anaconda3\\lib\\site-packages\\sklearn\\metrics\\_classification.py:1318: UndefinedMetricWarning: Precision and F-score are ill-defined and being set to 0.0 in labels with no predicted samples. Use `zero_division` parameter to control this behavior.\n",
      "  _warn_prf(average, modifier, msg_start, len(result))\n",
      "E:\\Softwares\\Anaconda3\\lib\\site-packages\\sklearn\\metrics\\_classification.py:1318: UndefinedMetricWarning: Precision and F-score are ill-defined and being set to 0.0 in labels with no predicted samples. Use `zero_division` parameter to control this behavior.\n",
      "  _warn_prf(average, modifier, msg_start, len(result))\n",
      "E:\\Softwares\\Anaconda3\\lib\\site-packages\\sklearn\\metrics\\_classification.py:1318: UndefinedMetricWarning: Precision and F-score are ill-defined and being set to 0.0 in labels with no predicted samples. Use `zero_division` parameter to control this behavior.\n",
      "  _warn_prf(average, modifier, msg_start, len(result))\n"
     ]
    }
   ],
   "source": [
    "rf_clf = RandomForestClassifier(max_depth=10, random_state=2).fit(x_train_c, y_train_c)\n",
    "rf_pred = rf_clf.predict(x_test_c)\n",
    "acc = accuracy_score(rf_pred, y_test_c)\n",
    "print(\"Accuracy:\",str('{:04.2f}'.format(acc*100))+'%')\n",
    "print(classification_report(y_test_c, rf_pred))\n",
    "clsf_report = pd.DataFrame(classification_report(y_test_c, pred, output_dict=True)).transpose()\n",
    "clsf_report.to_csv(os.path.join(os.path.curdir, \"result\", \"task_c_cls_report_random_forest.csv\"), index= True)"
   ]
  },
  {
   "cell_type": "code",
   "execution_count": null,
   "metadata": {},
   "outputs": [],
   "source": []
  }
 ],
 "metadata": {
  "colab": {
   "private_outputs": true,
   "provenance": []
  },
  "kernelspec": {
   "display_name": "Python 3 (ipykernel)",
   "language": "python",
   "name": "python3"
  },
  "language_info": {
   "codemirror_mode": {
    "name": "ipython",
    "version": 3
   },
   "file_extension": ".py",
   "mimetype": "text/x-python",
   "name": "python",
   "nbconvert_exporter": "python",
   "pygments_lexer": "ipython3",
   "version": "3.9.13"
  }
 },
 "nbformat": 4,
 "nbformat_minor": 1
}
